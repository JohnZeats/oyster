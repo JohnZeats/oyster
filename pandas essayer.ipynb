{
 "cells": [
  {
   "cell_type": "markdown",
   "metadata": {},
   "source": [
    "Maybe we could learn more on selenium"
   ]
  },
  {
   "cell_type": "code",
   "execution_count": 6,
   "metadata": {},
   "outputs": [
    {
     "name": "stderr",
     "output_type": "stream",
     "text": [
      "C:\\Users\\Administrator\\AppData\\Local\\Temp\\ipykernel_21432\\63258752.py:12: DeprecationWarning: executable_path has been deprecated, please pass in a Service object\n",
      "  driver = webdriver.Chrome(chrome_driver, chrome_options=chrome_options)\n",
      "C:\\Users\\Administrator\\AppData\\Local\\Temp\\ipykernel_21432\\63258752.py:12: DeprecationWarning: use options instead of chrome_options\n",
      "  driver = webdriver.Chrome(chrome_driver, chrome_options=chrome_options)\n"
     ]
    },
    {
     "name": "stdout",
     "output_type": "stream",
     "text": [
      "Ride on Car – costzon\n"
     ]
    }
   ],
   "source": [
    "from selenium import webdriver\n",
    "from selenium.webdriver.common.keys import Keys\n",
    "from selenium.webdriver.common.by import By\n",
    "from selenium.webdriver.chrome.options import Options\n",
    "   #这里是连接浏览器必须的程序port:9222\n",
    "   #需要同时启动chrome.exe --remote-debugging-port=9222 --user-data-dir=\"D:\\selenum\\ChromeProfile\"\n",
    "   #导航到需要的页面然后继续操作\n",
    "chrome_options = Options()\n",
    "chrome_options.add_experimental_option(\"debuggerAddress\", \"127.0.0.1:9222\")\n",
    "#Change chrome driver path accordingly\n",
    "chrome_driver = \"D:\\python\\chromedriver.exe\"\n",
    "driver = webdriver.Chrome(chrome_driver, chrome_options=chrome_options)\n",
    "print(driver.title)"
   ]
  },
  {
   "cell_type": "code",
   "execution_count": 8,
   "metadata": {},
   "outputs": [
    {
     "name": "stdout",
     "output_type": "stream",
     "text": [
      "[<selenium.webdriver.remote.webelement.WebElement (session=\"98e16d6f232327c71568b7a78a06ba56\", element=\"ee9030ee-f1c1-432e-8bfd-50dab1d311f3\")>, <selenium.webdriver.remote.webelement.WebElement (session=\"98e16d6f232327c71568b7a78a06ba56\", element=\"545b55b5-9b29-4f79-a635-5ceb336f3729\")>, <selenium.webdriver.remote.webelement.WebElement (session=\"98e16d6f232327c71568b7a78a06ba56\", element=\"8f344eb8-3f7b-4c18-8478-d5e3382bdb97\")>, <selenium.webdriver.remote.webelement.WebElement (session=\"98e16d6f232327c71568b7a78a06ba56\", element=\"223488b0-dbaf-42b7-be98-98cd39c6d880\")>, <selenium.webdriver.remote.webelement.WebElement (session=\"98e16d6f232327c71568b7a78a06ba56\", element=\"298d94ff-db96-42cf-ac73-89f5def8f290\")>, <selenium.webdriver.remote.webelement.WebElement (session=\"98e16d6f232327c71568b7a78a06ba56\", element=\"ffe6a94f-ced8-4eca-9b71-bd9c1de98e59\")>, <selenium.webdriver.remote.webelement.WebElement (session=\"98e16d6f232327c71568b7a78a06ba56\", element=\"d4bfe926-a512-49e0-9201-04bf95f6e3ea\")>, <selenium.webdriver.remote.webelement.WebElement (session=\"98e16d6f232327c71568b7a78a06ba56\", element=\"3f22e0fd-b91c-4798-bb28-295ebfefb6b4\")>, <selenium.webdriver.remote.webelement.WebElement (session=\"98e16d6f232327c71568b7a78a06ba56\", element=\"62e4cc6d-dfda-4129-a271-0d1dd77fb3bb\")>, <selenium.webdriver.remote.webelement.WebElement (session=\"98e16d6f232327c71568b7a78a06ba56\", element=\"da617c05-13b1-49f4-a87a-1b329a496107\")>, <selenium.webdriver.remote.webelement.WebElement (session=\"98e16d6f232327c71568b7a78a06ba56\", element=\"d8e69820-d5b2-4e2a-bfe9-b0762ebe704e\")>, <selenium.webdriver.remote.webelement.WebElement (session=\"98e16d6f232327c71568b7a78a06ba56\", element=\"f5a091ce-d077-4c60-80c0-6ee37ecdb474\")>]\n"
     ]
    }
   ],
   "source": [
    "elem_1 = driver.find_elements(By.CLASS_NAME, \"product-block__image\")\n",
    "type(elem_1)\n",
    "len(elem_1)\n",
    "print(elem_1)"
   ]
  },
  {
   "cell_type": "code",
   "execution_count": 10,
   "metadata": {},
   "outputs": [
    {
     "data": {
      "text/plain": [
       "''"
      ]
     },
     "execution_count": 10,
     "metadata": {},
     "output_type": "execute_result"
    }
   ],
   "source": [
    "elem_1[2].text"
   ]
  },
  {
   "cell_type": "code",
   "execution_count": null,
   "metadata": {},
   "outputs": [],
   "source": []
  }
 ],
 "metadata": {
  "kernelspec": {
   "display_name": "Python 3.9.10 64-bit",
   "language": "python",
   "name": "python3"
  },
  "language_info": {
   "codemirror_mode": {
    "name": "ipython",
    "version": 3
   },
   "file_extension": ".py",
   "mimetype": "text/x-python",
   "name": "python",
   "nbconvert_exporter": "python",
   "pygments_lexer": "ipython3",
   "version": "3.9.10"
  },
  "orig_nbformat": 4,
  "vscode": {
   "interpreter": {
    "hash": "2469a70536e4d2335a2ea8907942d0699c37342a371ac185bdb5b0aa6f073890"
   }
  }
 },
 "nbformat": 4,
 "nbformat_minor": 2
}
