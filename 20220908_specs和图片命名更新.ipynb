{
 "cells": [
  {
   "cell_type": "code",
   "execution_count": null,
   "metadata": {},
   "outputs": [],
   "source": [
    "#从文案文件抓取specs部分，20220908\n",
    "import docx \n",
    "doct = docx.Document(r'C:\\Users\\Administrator\\Desktop\\HG61H0460.docx') #在这里提供文件\n",
    "for specfind in range(len(doct.paragraphs)):\n",
    "    if 'pecification' in doct.paragraphs[specfind].text: #specification的行数\n",
    "        spec_line = specfind\n",
    "specs_list = []\n",
    "for o in range(10):\n",
    "    if ':' in doct.paragraphs[spec_line + o + 1].text:\n",
    "        if 'package' in doct.paragraphs[spec_line + o + 2].text: #通过判断下一行是否是pack或者换行得出截止行数\n",
    "            specs_list.append(doct.paragraphs[spec_line + o + 1].text) #或者在这里分别在每次得到字符的时候进行填充\n",
    "            break\n",
    "        if 'Package' in doct.paragraphs[spec_line + o + 2].text:\n",
    "            specs_list.append(doct.paragraphs[spec_line + o + 1].text)\n",
    "            break\n",
    "        if ':' not in doct.paragraphs[spec_line + o + 2].text:\n",
    "            specs_list.append(doct.paragraphs[spec_line + o + 1].text)\n",
    "            break\n",
    "        specs_list.append(doct.paragraphs[spec_line + o + 1].text)\n",
    "print(specs_list) #在这里接之前的代码，现在specs_list是所有的项目的数量\n",
    "len(specs_list)"
   ]
  },
  {
   "cell_type": "code",
   "execution_count": null,
   "metadata": {},
   "outputs": [],
   "source": [
    "#将jpg文件拖到指定文件夹里，按照文件路径创建的时序进行命名，20220908\n",
    "import os\n",
    "sku = 'H17M0027' #在这里输入sku\n",
    "def renameFilesSortedByTime(dirPath):\n",
    "    mlist = []\n",
    "    files = os.listdir(dirPath)\n",
    "    for filename in files:\n",
    "        createTime = os.path.getctime(dirPath + filename) #按照文件路径创建的时序进行编号\n",
    "        mlist.append(str(int(createTime)) + \"-\" + filename)\n",
    "    mlist = sorted(mlist)\n",
    "    for i in range(len(mlist)):\n",
    "        oldName = mlist[i][11:]\n",
    "        skuname = sku + '-' + str(i + 1) + '.jpg'\n",
    "        os.rename(dirPath + oldName, dirPath + skuname)\n",
    "if __name__ == '__main__': #这里还需要学习和理解\n",
    "    renameFilesSortedByTime(\"C:\\\\Users\\\\Administrator\\\\Desktop\\\\001\\\\\") #输入文件夹的位置\n",
    "    print(\"Job Done!\")"
   ]
  }
 ],
 "metadata": {
  "kernelspec": {
   "display_name": "Python 3.9.10 64-bit",
   "language": "python",
   "name": "python3"
  },
  "language_info": {
   "name": "python",
   "version": "3.9.10"
  },
  "orig_nbformat": 4,
  "vscode": {
   "interpreter": {
    "hash": "2469a70536e4d2335a2ea8907942d0699c37342a371ac185bdb5b0aa6f073890"
   }
  }
 },
 "nbformat": 4,
 "nbformat_minor": 2
}
